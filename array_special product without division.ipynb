{
 "cells": [
  {
   "cell_type": "code",
   "execution_count": 16,
   "id": "07f783ee-1e59-41fd-a6ef-73ac0c577781",
   "metadata": {},
   "outputs": [
    {
     "name": "stdout",
     "output_type": "stream",
     "text": [
      "[120, 60, 40, 30, 24]\n"
     ]
    }
   ],
   "source": [
    "import numpy as np\n",
    "y=np.array([1,2,3,4,5])\n",
    "def a_index_sp(x):\n",
    "    result = [1] *len(y)\n",
    "    for i in range(len(y)):\n",
    "            for j in range(len(y)):\n",
    "                if i!= j:\n",
    "                    result[i] *= y[j]\n",
    "    return result\n",
    "\n",
    "            \n",
    "  \n",
    "print(a_index_sp(y))"
   ]
  },
  {
   "cell_type": "code",
   "execution_count": null,
   "id": "b6f2139f-3405-4530-a0cb-e6b1a2b358b7",
   "metadata": {},
   "outputs": [],
   "source": []
  },
  {
   "cell_type": "code",
   "execution_count": null,
   "id": "1d04d737-a20d-4c21-989f-d34c731ee1a4",
   "metadata": {},
   "outputs": [],
   "source": []
  }
 ],
 "metadata": {
  "kernelspec": {
   "display_name": "Python 3 (ipykernel)",
   "language": "python",
   "name": "python3"
  },
  "language_info": {
   "codemirror_mode": {
    "name": "ipython",
    "version": 3
   },
   "file_extension": ".py",
   "mimetype": "text/x-python",
   "name": "python",
   "nbconvert_exporter": "python",
   "pygments_lexer": "ipython3",
   "version": "3.12.4"
  }
 },
 "nbformat": 4,
 "nbformat_minor": 5
}
