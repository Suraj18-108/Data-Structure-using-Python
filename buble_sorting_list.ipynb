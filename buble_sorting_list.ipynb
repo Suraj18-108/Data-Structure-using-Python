{
 "cells": [
  {
   "cell_type": "code",
   "execution_count": 23,
   "id": "090c7a35-a2a4-42e0-ae7c-2dd42adb4b3e",
   "metadata": {},
   "outputs": [
    {
     "name": "stdin",
     "output_type": "stream",
     "text": [
      " 5\n",
      " 1\n",
      " 6\n",
      " 5\n",
      " 8\n",
      " 9\n"
     ]
    },
    {
     "name": "stdout",
     "output_type": "stream",
     "text": [
      "sorted\n",
      "1 5 6 8 9 "
     ]
    }
   ],
   "source": [
    "def bub_sort_list(x):\n",
    "    n = len(x)\n",
    "    for i in range(n-1):\n",
    "        for j in range(n-1):\n",
    "            if x[j] > x[j+1]:\n",
    "                temp = x[j]\n",
    "                x[j] = x[j+1]\n",
    "                x[j+1] = temp\n",
    "\n",
    "n = int(input())\n",
    "list =[]\n",
    "for i in range(n):\n",
    "    b = int(input())\n",
    "    list.append(b)\n",
    "\n",
    "bub_sort_list(list)\n",
    "print('sorted')\n",
    "for i in range(n):\n",
    "    print(list[i],end=' ')"
   ]
  },
  {
   "cell_type": "code",
   "execution_count": null,
   "id": "e5693a58-5ff3-4b7f-a72c-d65b3d74ae71",
   "metadata": {},
   "outputs": [],
   "source": []
  }
 ],
 "metadata": {
  "kernelspec": {
   "display_name": "Python 3 (ipykernel)",
   "language": "python",
   "name": "python3"
  },
  "language_info": {
   "codemirror_mode": {
    "name": "ipython",
    "version": 3
   },
   "file_extension": ".py",
   "mimetype": "text/x-python",
   "name": "python",
   "nbconvert_exporter": "python",
   "pygments_lexer": "ipython3",
   "version": "3.12.4"
  }
 },
 "nbformat": 4,
 "nbformat_minor": 5
}
