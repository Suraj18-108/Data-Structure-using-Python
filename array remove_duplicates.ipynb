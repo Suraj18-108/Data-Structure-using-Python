{
 "cells": [
  {
   "cell_type": "code",
   "execution_count": 39,
   "id": "dcae8826-bff5-4039-acf3-cf800cd5750c",
   "metadata": {},
   "outputs": [
    {
     "name": "stdout",
     "output_type": "stream",
     "text": [
      "[33 69 42 22 55 25]\n",
      "[55 69 22 22 33 42 25 25 33 69]\n"
     ]
    }
   ],
   "source": [
    "import numpy as np\n",
    "y=np.array([55,69,22,22,33,42,25,25,33,69])\n",
    "def  r_dup(x):\n",
    "    z = set(y)\n",
    "    arr = list(z)\n",
    "    return np.array(arr)\n",
    "\n",
    "result = r_dup(y)\n",
    "print(result)\n",
    "print(y)\n",
    "\n"
   ]
  },
  {
   "cell_type": "code",
   "execution_count": null,
   "id": "9b99e274-145a-44c8-ac7a-6442f807bb91",
   "metadata": {},
   "outputs": [],
   "source": []
  },
  {
   "cell_type": "code",
   "execution_count": null,
   "id": "9497f70a-6267-46d4-86c9-a989ae7efa35",
   "metadata": {},
   "outputs": [],
   "source": []
  }
 ],
 "metadata": {
  "kernelspec": {
   "display_name": "Python 3 (ipykernel)",
   "language": "python",
   "name": "python3"
  },
  "language_info": {
   "codemirror_mode": {
    "name": "ipython",
    "version": 3
   },
   "file_extension": ".py",
   "mimetype": "text/x-python",
   "name": "python",
   "nbconvert_exporter": "python",
   "pygments_lexer": "ipython3",
   "version": "3.12.4"
  }
 },
 "nbformat": 4,
 "nbformat_minor": 5
}
