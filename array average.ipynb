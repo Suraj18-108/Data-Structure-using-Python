{
 "cells": [
  {
   "cell_type": "code",
   "execution_count": 5,
   "id": "ec74edeb-34b3-4148-b2b8-7ea1be49fe60",
   "metadata": {},
   "outputs": [
    {
     "name": "stdout",
     "output_type": "stream",
     "text": [
      "(163.8, 819)\n"
     ]
    }
   ],
   "source": [
    "import numpy as np\n",
    "y=np.array([55,69,22,420,253])\n",
    "def average(x):\n",
    "    sum_a = np.sum(x)\n",
    "    len_a = len(x)\n",
    "    avg_a = sum_a/len_a\n",
    "    return avg_a,sum_a\n",
    "\n",
    "result = average(y)\n",
    "print(result)"
   ]
  },
  {
   "cell_type": "code",
   "execution_count": null,
   "id": "369cf33e-c650-41b0-853f-043452c2ee5f",
   "metadata": {},
   "outputs": [],
   "source": []
  }
 ],
 "metadata": {
  "kernelspec": {
   "display_name": "Python 3 (ipykernel)",
   "language": "python",
   "name": "python3"
  },
  "language_info": {
   "codemirror_mode": {
    "name": "ipython",
    "version": 3
   },
   "file_extension": ".py",
   "mimetype": "text/x-python",
   "name": "python",
   "nbconvert_exporter": "python",
   "pygments_lexer": "ipython3",
   "version": "3.12.4"
  }
 },
 "nbformat": 4,
 "nbformat_minor": 5
}
