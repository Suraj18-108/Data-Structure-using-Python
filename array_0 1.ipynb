{
 "cells": [
  {
   "cell_type": "code",
   "execution_count": 11,
   "id": "8d082bcb-5ff2-4036-b89a-a455b129dc55",
   "metadata": {},
   "outputs": [
    {
     "name": "stdout",
     "output_type": "stream",
     "text": [
      "Output :  [1, 1, 1, 1, 0, 0, 0, 0, 0]\n"
     ]
    }
   ],
   "source": [
    "import numpy as np\n",
    "y = np.array([0,1,0,1,0,0,1,1,0])\n",
    "def one_zero(y):\n",
    "    count_0 = 0\n",
    "    count_1 = 0\n",
    "    for i in y:\n",
    "        if i == 0:\n",
    "            count_0 += 1\n",
    "        elif i == 1:\n",
    "            count_1 += 1\n",
    "\n",
    "    result = ([1] *count_1) + ([0]*count_0)\n",
    "    return result\n",
    "print('Output : ',one_zero(y))\n"
   ]
  },
  {
   "cell_type": "code",
   "execution_count": 13,
   "id": "8ec88c3d-fba7-4ff8-897d-20f57216d174",
   "metadata": {},
   "outputs": [
    {
     "name": "stdout",
     "output_type": "stream",
     "text": [
      "Output :  [1, 1, 1, 1, 0, 0, 0, 0, 0]\n"
     ]
    }
   ],
   "source": [
    "import numpy as np\n",
    "y = np.array([0,1,0,1,0,0,1,1,0])\n",
    "def one_zero(y):\n",
    "    i = 0\n",
    "    count_0 = 0\n",
    "    count_1 = 0\n",
    "    for i in y:\n",
    "        if i == 0:\n",
    "            count_0 += 1\n",
    "        elif i == 1:\n",
    "            count_1 += 1\n",
    "\n",
    "    result = ([1] *count_1) + ([0]*count_0)\n",
    "    return result\n",
    "print('Output : ',one_zero(y))\n",
    "    "
   ]
  },
  {
   "cell_type": "code",
   "execution_count": 15,
   "id": "03f6f4e3-647a-498e-b4c9-11c7bca5d461",
   "metadata": {},
   "outputs": [
    {
     "name": "stdout",
     "output_type": "stream",
     "text": [
      "Output :  ('ONES', 7, 'ZEROES', 7)\n"
     ]
    }
   ],
   "source": [
    "import numpy as np\n",
    "y = np.array([0,1,0,1,0,0,1,1,0,1,0,1,0,1])\n",
    "def count_one_zero(y):\n",
    "    count_0 = 0\n",
    "    count_1 = 0\n",
    "    for i in y:\n",
    "        if i == 0:\n",
    "            count_0 += 1\n",
    "        elif i == 1:\n",
    "            count_1 += 1\n",
    "\n",
    "    result = 'ONES',count_1 , 'ZEROES',count_0\n",
    "    return result\n",
    "print('Output : ',count_one_zero(y))\n",
    "    "
   ]
  },
  {
   "cell_type": "code",
   "execution_count": 17,
   "id": "dc4f245e-6a4e-41cd-bd63-9553b519ccd7",
   "metadata": {},
   "outputs": [
    {
     "name": "stdout",
     "output_type": "stream",
     "text": [
      "Output :  [1, 1, 1, 1, 1, 1, 1, 1, 0, 0, 0, 0, 0, 0, 0]\n"
     ]
    }
   ],
   "source": [
    "import numpy as np\n",
    "y = [1,0,1,0,1,1,0,0,1,1,0,0,0,1,1]\n",
    "def one_zero(y):\n",
    "    count_0 = 0\n",
    "    count_1 = 0\n",
    "    for i in y:\n",
    "        if i == 0:\n",
    "            count_0 += 1\n",
    "        elif i == 1:\n",
    "            count_1 += 1\n",
    "\n",
    "    result = ([1] *count_1) + ([0]*count_0)\n",
    "    return result\n",
    "print('Output : ',one_zero(y))\n",
    "    "
   ]
  },
  {
   "cell_type": "code",
   "execution_count": 42,
   "id": "cfe373c8-f8dd-41a7-906b-c6c11fe78cd4",
   "metadata": {},
   "outputs": [
    {
     "name": "stdout",
     "output_type": "stream",
     "text": [
      "Array after moving zeros : [1 1 1 1 0 0 0 0 0]\n"
     ]
    }
   ],
   "source": [
    "import numpy as np\n",
    "x = np.array([0, 1, 1, 0, 1, 0, 1, 0, 0])\n",
    "def move_zeros(arr):\n",
    "    ones = arr[arr == 1]\n",
    "    zeros = arr[arr == 0]\n",
    "    return np.concatenate((ones, zeros))\n",
    "x_sorted = move_zeros(x)\n",
    "print(\"Array after moving zeros :\", x_sorted)"
   ]
  },
  {
   "cell_type": "code",
   "execution_count": null,
   "id": "f49bc4d4-3cfa-411b-b77b-864dffedf7b9",
   "metadata": {},
   "outputs": [],
   "source": []
  }
 ],
 "metadata": {
  "kernelspec": {
   "display_name": "Python 3 (ipykernel)",
   "language": "python",
   "name": "python3"
  },
  "language_info": {
   "codemirror_mode": {
    "name": "ipython",
    "version": 3
   },
   "file_extension": ".py",
   "mimetype": "text/x-python",
   "name": "python",
   "nbconvert_exporter": "python",
   "pygments_lexer": "ipython3",
   "version": "3.12.4"
  }
 },
 "nbformat": 4,
 "nbformat_minor": 5
}
