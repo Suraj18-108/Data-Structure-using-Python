{
 "cells": [
  {
   "cell_type": "code",
   "execution_count": 17,
   "id": "469f1ce9-0e0c-4dc7-a614-01047759b5fe",
   "metadata": {},
   "outputs": [
    {
     "name": "stdout",
     "output_type": "stream",
     "text": [
      "unsorted: [29 10 14 37 14]\n",
      "sorted :  [10 14 14 29 37]\n"
     ]
    }
   ],
   "source": [
    "\n",
    "import numpy as np\n",
    "\n",
    "arr = np.array([29,10,14,37,14])\n",
    "\n",
    "print('unsorted:',arr)\n",
    "\n",
    "def bub_sort(arr):\n",
    "    n = len(arr)\n",
    "    for i in range(n-1):\n",
    "        for j in range(n-1):\n",
    "            if arr[j] > arr[j+1]:\n",
    "                temp = arr[j]\n",
    "                arr[j] = arr[j+1]\n",
    "                arr[j+1] = temp\n",
    "    return arr           \n",
    "\n",
    "\n",
    "print('sorted : ',bub_sort(arr))\n",
    "                "
   ]
  },
  {
   "cell_type": "code",
   "execution_count": 11,
   "id": "a003bfb5-bec8-47e3-b971-45bf4201fe4a",
   "metadata": {},
   "outputs": [
    {
     "name": "stdout",
     "output_type": "stream",
     "text": [
      "sorted : \n",
      "10 14 14 25 26 29 37 "
     ]
    }
   ],
   "source": [
    "import numpy as np\n",
    "arr = np.array([29,10,14,37,14,25,26])\n",
    "def bub_sort(arr):\n",
    "    n = len(arr)\n",
    "    for i in range(n-1):\n",
    "        for j in range(n-1):\n",
    "            if arr[j] > arr[j+1]:\n",
    "                temp = arr[j]\n",
    "                arr[j] = arr[j+1]\n",
    "                arr[j+1] = temp\n",
    "          \n",
    "\n",
    "bub_sort(arr)\n",
    "n=len(arr)\n",
    "print('sorted : ')\n",
    "for i in range(n):\n",
    "    print(arr[i],end = ' ')\n",
    "                "
   ]
  },
  {
   "cell_type": "code",
   "execution_count": null,
   "id": "ad3c9cd8-44ad-41a4-af21-1929383ad30b",
   "metadata": {},
   "outputs": [],
   "source": []
  }
 ],
 "metadata": {
  "kernelspec": {
   "display_name": "Python 3 (ipykernel)",
   "language": "python",
   "name": "python3"
  },
  "language_info": {
   "codemirror_mode": {
    "name": "ipython",
    "version": 3
   },
   "file_extension": ".py",
   "mimetype": "text/x-python",
   "name": "python",
   "nbconvert_exporter": "python",
   "pygments_lexer": "ipython3",
   "version": "3.12.4"
  }
 },
 "nbformat": 4,
 "nbformat_minor": 5
}
