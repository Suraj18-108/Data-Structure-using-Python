{
 "cells": [
  {
   "cell_type": "code",
   "execution_count": 19,
   "id": "4d6d11ca-b2c0-4241-983f-93e6c9954df9",
   "metadata": {},
   "outputs": [
    {
     "name": "stdout",
     "output_type": "stream",
     "text": [
      "7\n"
     ]
    }
   ],
   "source": [
    "array = [0,1,0,1,1,1,0,1,0]\n",
    "def lastzero(x):\n",
    "    index = -1\n",
    "    n=len(array) \n",
    "    for i in range(n):\n",
    "        if x[i] ==1:\n",
    "            index = i\n",
    "    return index\n",
    "print(lastzero(array))\n",
    "    \n",
    "        \n",
    "        "
   ]
  },
  {
   "cell_type": "code",
   "execution_count": null,
   "id": "397c19e6-c7db-4a8a-99f2-b12e82aaf2a3",
   "metadata": {},
   "outputs": [],
   "source": []
  }
 ],
 "metadata": {
  "kernelspec": {
   "display_name": "Python 3 (ipykernel)",
   "language": "python",
   "name": "python3"
  },
  "language_info": {
   "codemirror_mode": {
    "name": "ipython",
    "version": 3
   },
   "file_extension": ".py",
   "mimetype": "text/x-python",
   "name": "python",
   "nbconvert_exporter": "python",
   "pygments_lexer": "ipython3",
   "version": "3.12.4"
  }
 },
 "nbformat": 4,
 "nbformat_minor": 5
}
