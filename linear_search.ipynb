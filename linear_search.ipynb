{
 "cells": [
  {
   "cell_type": "code",
   "execution_count": 38,
   "id": "a867a618-9742-4b22-8519-a2f055d7121e",
   "metadata": {},
   "outputs": [],
   "source": [
    "import numpy as np\n",
    "arr = np.array([1,2,5,4,6,8,9])"
   ]
  },
  {
   "cell_type": "code",
   "execution_count": 40,
   "id": "aa6338e0-5327-49e0-a2b7-36f5de7a912a",
   "metadata": {},
   "outputs": [
    {
     "name": "stdin",
     "output_type": "stream",
     "text": [
      " 8\n"
     ]
    },
    {
     "name": "stdout",
     "output_type": "stream",
     "text": [
      "5\n"
     ]
    }
   ],
   "source": [
    "\n",
    "def linear_search(arr,s_ele):\n",
    "    n = len(arr)\n",
    "    for i in range (n):\n",
    "        if s_ele == arr[i]:\n",
    "           return i\n",
    "    return -1\n",
    "s_ele = int(input())\n",
    "print(linear_search(arr,s_ele))\n",
    "    \n",
    "\n"
   ]
  },
  {
   "cell_type": "code",
   "execution_count": 42,
   "id": "745808f4-b0f4-49c1-afc7-527baaa655df",
   "metadata": {},
   "outputs": [
    {
     "name": "stdin",
     "output_type": "stream",
     "text": [
      " 8\n"
     ]
    },
    {
     "name": "stdout",
     "output_type": "stream",
     "text": [
      "5\n"
     ]
    }
   ],
   "source": [
    "def lin_s(arr,s_ele):\n",
    "    i = 0\n",
    "    n = len(arr)\n",
    "    while i<n:\n",
    "        if arr[i] == s_ele:\n",
    "            return i\n",
    "        i+=1\n",
    "    return -1        \n",
    "\n",
    "s_ele = int(input())\n",
    "print(lin_s(arr,s_ele))"
   ]
  },
  {
   "cell_type": "code",
   "execution_count": null,
   "id": "aa2478a4-4445-48c9-9d3a-7676ae9f48e2",
   "metadata": {},
   "outputs": [],
   "source": []
  }
 ],
 "metadata": {
  "kernelspec": {
   "display_name": "Python 3 (ipykernel)",
   "language": "python",
   "name": "python3"
  },
  "language_info": {
   "codemirror_mode": {
    "name": "ipython",
    "version": 3
   },
   "file_extension": ".py",
   "mimetype": "text/x-python",
   "name": "python",
   "nbconvert_exporter": "python",
   "pygments_lexer": "ipython3",
   "version": "3.12.4"
  }
 },
 "nbformat": 4,
 "nbformat_minor": 5
}
