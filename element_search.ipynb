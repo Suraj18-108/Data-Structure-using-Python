{
 "cells": [
  {
   "cell_type": "code",
   "execution_count": 5,
   "id": "f84b84fc-9315-41f4-b6b9-72f97ef3b51f",
   "metadata": {},
   "outputs": [
    {
     "name": "stdout",
     "output_type": "stream",
     "text": [
      "1\n",
      "2\n",
      "3\n",
      "4\n",
      "5\n",
      "6\n"
     ]
    }
   ],
   "source": [
    "from array import *\n",
    "l=array('i',[1,2,3,4,5,6])\n",
    "for i in l:\n",
    "    print(i)"
   ]
  },
  {
   "cell_type": "code",
   "execution_count": 9,
   "id": "36d2b4aa-1e07-46bf-966c-3e981a8bd377",
   "metadata": {},
   "outputs": [
    {
     "name": "stdin",
     "output_type": "stream",
     "text": [
      "Search Element :  69\n"
     ]
    },
    {
     "name": "stdout",
     "output_type": "stream",
     "text": [
      "location of Search Element :  4\n"
     ]
    }
   ],
   "source": [
    "import numpy as np\n",
    "arr = np.array([1,2,55,66,69,99])\n",
    "\n",
    "n = len(arr)\n",
    "\n",
    "s_ele = int(input('Search Element : '))\n",
    "\n",
    "for i in range(n):\n",
    "    if s_ele == arr[i]:\n",
    "        print('location of Search Element : ',i)\n",
    "\n",
    "    \n",
    "if s_ele not in arr:\n",
    "    print('Element not in array')\n",
    "        \n"
   ]
  },
  {
   "cell_type": "code",
   "execution_count": 11,
   "id": "b778da76-fc06-4217-b8bf-1457a49e55be",
   "metadata": {},
   "outputs": [
    {
     "name": "stdin",
     "output_type": "stream",
     "text": [
      "Search Element :  88\n"
     ]
    },
    {
     "name": "stdout",
     "output_type": "stream",
     "text": [
      "7\n"
     ]
    }
   ],
   "source": [
    "import numpy as np\n",
    "arr = np.array([1,2,33,44,55,66,77,88,99])\n",
    "\n",
    "def search(x):\n",
    "    n = len(x)\n",
    "    s_ele = int(input('Search Element : '))\n",
    "    for i in range(n):\n",
    "        if s_ele == x[i]:\n",
    "            return i\n",
    "                    \n",
    "    if s_ele not in x:\n",
    "        print('Element not in array')\n",
    "    return ''\n",
    "\n",
    "print(search(arr))\n",
    "\n",
    "        \n"
   ]
  },
  {
   "cell_type": "code",
   "execution_count": 13,
   "id": "dfdaf221-e211-4518-a081-6af9966fdcd7",
   "metadata": {},
   "outputs": [
    {
     "name": "stdin",
     "output_type": "stream",
     "text": [
      "Search Element :  14\n"
     ]
    },
    {
     "name": "stdout",
     "output_type": "stream",
     "text": [
      "5\n"
     ]
    }
   ],
   "source": [
    "rr = np.array([25,26,58,95,12,14,47,65])\n",
    "print(search(rr))"
   ]
  },
  {
   "cell_type": "code",
   "execution_count": null,
   "id": "04e3e621-b1fe-41da-9c2c-601c3bca059c",
   "metadata": {},
   "outputs": [
    {
     "name": "stdin",
     "output_type": "stream",
     "text": [
      "Search element 56\n"
     ]
    }
   ],
   "source": [
    "import numpy as np\n",
    "y = np.array([54,26,68,72,99,69])\n",
    "y = np.sort(y)\n",
    "def binary_search(x,target):\n",
    "    x=np.sort(x)\n",
    "    low = 0\n",
    "    high = len(x)-1\n",
    "    mid = (low+high)//2\n",
    "    \n",
    "    while low <= high:\n",
    "        if target == x[mid]:\n",
    "            return mid\n",
    "        if target > x[mid]:\n",
    "            low = mid+1\n",
    "        else:\n",
    "            high = mid-1\n",
    "    \n",
    "    return -1\n",
    "target = int(input('Search element'))\n",
    "print(binary_search(y,target))\n"
   ]
  },
  {
   "cell_type": "code",
   "execution_count": null,
   "id": "fa9d1934-a145-47d2-8bb9-9d96a6f718fa",
   "metadata": {},
   "outputs": [],
   "source": []
  }
 ],
 "metadata": {
  "kernelspec": {
   "display_name": "Python 3 (ipykernel)",
   "language": "python",
   "name": "python3"
  },
  "language_info": {
   "codemirror_mode": {
    "name": "ipython",
    "version": 3
   },
   "file_extension": ".py",
   "mimetype": "text/x-python",
   "name": "python",
   "nbconvert_exporter": "python",
   "pygments_lexer": "ipython3",
   "version": "3.12.4"
  }
 },
 "nbformat": 4,
 "nbformat_minor": 5
}
