{
 "cells": [
  {
   "cell_type": "code",
   "execution_count": null,
   "id": "cb72afcf-77c6-4199-aa08-f610cf207516",
   "metadata": {},
   "outputs": [],
   "source": [
    "import numpy as np\n",
    "y = np.array([54,26,68,72,99,69])\n",
    "y = np.sort(y)\n",
    "def binary_search(x,target):\n",
    "    x=np.sort(x)\n",
    "    low = 0\n",
    "    high = len(x)\n",
    "    mid = (low+high)//2\n",
    "    \n",
    "    while low <= high:\n",
    "        if target == x[mid]:\n",
    "            return mid\n",
    "        if target > x[mid]:\n",
    "            low = mid+1\n",
    "        else:\n",
    "            high = mid-1\n",
    "    \n",
    "    return -1\n",
    "target = int(input('Search element'))\n",
    "print(binary_search(y,target))\n"
   ]
  },
  {
   "cell_type": "code",
   "execution_count": null,
   "id": "8d239ee4-126c-493d-aa5e-433d80e2aa25",
   "metadata": {},
   "outputs": [],
   "source": [
    "def b_search(arr):\n",
    "    low = 0\n",
    "    high = len(arr) - 1\n",
    "    target = int(input())\n",
    "\n",
    "    while low <= high:\n",
    "        mid = (low + high) // 2\n",
    "        target = arr[mid]\n",
    "\n",
    "        if mid == target:\n",
    "            return mid\n",
    "        if mid > target:\n",
    "            high = mid - 1\n",
    "        else:\n",
    "            low = mid + 1\n",
    "\n",
    "    return -1\n",
    "    \n",
    "arr=np.array([12,23,34,45,56,78,89])\n",
    "print(b_search(arr))"
   ]
  },
  {
   "cell_type": "code",
   "execution_count": 3,
   "id": "22d39212-83a2-4e3d-9293-411b3e385fd6",
   "metadata": {},
   "outputs": [
    {
     "data": {
      "text/plain": [
       "0"
      ]
     },
     "execution_count": 3,
     "metadata": {},
     "output_type": "execute_result"
    }
   ],
   "source": [
    "2//3"
   ]
  },
  {
   "cell_type": "code",
   "execution_count": null,
   "id": "12a15e7f-96a2-48f1-b1f3-6e5c0d0169b8",
   "metadata": {},
   "outputs": [],
   "source": []
  }
 ],
 "metadata": {
  "kernelspec": {
   "display_name": "Python 3 (ipykernel)",
   "language": "python",
   "name": "python3"
  },
  "language_info": {
   "codemirror_mode": {
    "name": "ipython",
    "version": 3
   },
   "file_extension": ".py",
   "mimetype": "text/x-python",
   "name": "python",
   "nbconvert_exporter": "python",
   "pygments_lexer": "ipython3",
   "version": "3.12.4"
  }
 },
 "nbformat": 4,
 "nbformat_minor": 5
}
