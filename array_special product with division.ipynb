{
 "cells": [
  {
   "cell_type": "code",
   "execution_count": 5,
   "id": "90c3cf35-c3f0-4ee2-a7ec-4cf44526099b",
   "metadata": {},
   "outputs": [
    {
     "name": "stdout",
     "output_type": "stream",
     "text": [
      "[120, 60, 40, 30, 24]\n"
     ]
    }
   ],
   "source": [
    "import numpy as np\n",
    "import math as m\n",
    "y = np.array([1,2,3,4,5])\n",
    "def a_sp_div(y):\n",
    "    t_prod = m.prod(y)\n",
    "    prod_arr = []\n",
    "    for i in y:\n",
    "        prod_arr.append(t_prod//i)\n",
    "    return prod_arr   \n",
    "\n",
    "print(a_sp_div(y))"
   ]
  },
  {
   "cell_type": "code",
   "execution_count": null,
   "id": "717a05a9-fa65-4fbe-a42f-c0c7fee32ae9",
   "metadata": {},
   "outputs": [],
   "source": []
  }
 ],
 "metadata": {
  "kernelspec": {
   "display_name": "Python 3 (ipykernel)",
   "language": "python",
   "name": "python3"
  },
  "language_info": {
   "codemirror_mode": {
    "name": "ipython",
    "version": 3
   },
   "file_extension": ".py",
   "mimetype": "text/x-python",
   "name": "python",
   "nbconvert_exporter": "python",
   "pygments_lexer": "ipython3",
   "version": "3.12.4"
  }
 },
 "nbformat": 4,
 "nbformat_minor": 5
}
