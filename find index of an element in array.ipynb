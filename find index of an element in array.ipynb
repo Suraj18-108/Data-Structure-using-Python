{
 "cells": [
  {
   "cell_type": "code",
   "execution_count": 29,
   "id": "bd5d8488-e055-4ff5-9942-72d3c180e073",
   "metadata": {},
   "outputs": [
    {
     "name": "stdin",
     "output_type": "stream",
     "text": [
      " 999\n"
     ]
    },
    {
     "name": "stdout",
     "output_type": "stream",
     "text": [
      "None\n"
     ]
    }
   ],
   "source": [
    "import numpy as np\n",
    "y=np.array([10,55,65,29,32,81,69])\n",
    "search = int(input())\n",
    "def a_index(x,search):\n",
    "    \n",
    "    for i in range(len(y)):\n",
    "        if x[i] == search:\n",
    "            return i\n",
    "\n",
    "            \n",
    "  \n",
    "print(a_index(y,search))"
   ]
  },
  {
   "cell_type": "code",
   "execution_count": null,
   "id": "764f022c-aa37-48d8-bc50-e4add7da3514",
   "metadata": {},
   "outputs": [],
   "source": [
    "import numpy as np\n",
    "y=np.array([10,55,65,29,32,81,69])\n",
    "search = int(input())\n",
    "def a_index(x,search):\n",
    "    try:\n",
    "        for i in range(len(y)):\n",
    "            if x[i] == search:\n",
    "                return i\n",
    "        raise ValueError('Element not found')\n",
    "    except Value    \n",
    "\n",
    "            \n",
    "  \n",
    "print(a_index(y,search))"
   ]
  }
 ],
 "metadata": {
  "kernelspec": {
   "display_name": "Python 3 (ipykernel)",
   "language": "python",
   "name": "python3"
  },
  "language_info": {
   "codemirror_mode": {
    "name": "ipython",
    "version": 3
   },
   "file_extension": ".py",
   "mimetype": "text/x-python",
   "name": "python",
   "nbconvert_exporter": "python",
   "pygments_lexer": "ipython3",
   "version": "3.12.4"
  }
 },
 "nbformat": 4,
 "nbformat_minor": 5
}
